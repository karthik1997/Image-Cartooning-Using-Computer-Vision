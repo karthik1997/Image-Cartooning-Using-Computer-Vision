{
 "cells": [
  {
   "cell_type": "markdown",
   "metadata": {},
   "source": [
    "# <font color='Teal'> Cartoon Image Creation</font> <font color='red'> using Computer Vision</font>\n",
    "---"
   ]
  },
  {
   "cell_type": "markdown",
   "metadata": {},
   "source": [
    "### Importing Libraries"
   ]
  },
  {
   "cell_type": "code",
   "execution_count": 1,
   "metadata": {},
   "outputs": [],
   "source": [
    "import cv2\n",
    "import numpy as np"
   ]
  },
  {
   "cell_type": "markdown",
   "metadata": {},
   "source": [
    "### Creating Functions for Mask Creation and Color Mapping"
   ]
  },
  {
   "cell_type": "code",
   "execution_count": 2,
   "metadata": {},
   "outputs": [],
   "source": [
    "def mask_creation(img):\n",
    "  #The function generates a edge mask using adaptive thresholding\n",
    "  gray_image = cv2.cvtColor(img,cv2.COLOR_BGR2GRAY)\n",
    "  gray_blur = cv2.medianBlur(gray_image, 5)\n",
    "  mask_ = cv2.adaptiveThreshold(gray_blur, 255, cv2.ADAPTIVE_THRESH_MEAN_C, cv2.THRESH_BINARY, 9, 6)\n",
    "  return mask_\n",
    "\n",
    "\n",
    "def color_mapping(img):\n",
    "  #This function actually limits the colours combinations which is needed to be appeared in the cartoon canvas\n",
    "  data = np.float32(img).reshape((-1, 3))\n",
    "  #setting up the mapping criteria\n",
    "  mapping_criteria = (cv2.TERM_CRITERIA_EPS + cv2.TERM_CRITERIA_MAX_ITER, 20, 1.25)\n",
    "  #doing k means for color quantization\n",
    "  ret, label, center = cv2.kmeans(data, 9, None, mapping_criteria, 10, cv2.KMEANS_RANDOM_CENTERS)\n",
    "  center = np.uint8(center)\n",
    "  result = center[label.flatten()]\n",
    "  result = result.reshape(img.shape)\n",
    "  return result"
   ]
  },
  {
   "cell_type": "markdown",
   "metadata": {},
   "source": [
    "### Helper Function"
   ]
  },
  {
   "cell_type": "code",
   "execution_count": 3,
   "metadata": {},
   "outputs": [],
   "source": [
    "def cartoonify(image):\n",
    "    #This is a helper function for post processing\n",
    "    mask_created = mask_creation(image)\n",
    "\n",
    "    img1 = color_mapping(image)\n",
    "\n",
    "    #reducing the noise by usib bilateral filter\n",
    "    image_test = cv2.bilateralFilter(img1, 8, 200,200)\n",
    "    #adding both image and mask together\n",
    "    cartoon = cv2.bitwise_and(image_test, image_test, mask=mask_created)\n",
    "    cv2.imshow(\"original\",image)\n",
    "    cv2.imshow(\"cartoonized\",cartoon)\n",
    "    cv2.waitKey(0)\n",
    "    cv2.destroyAllWindows()"
   ]
  },
  {
   "cell_type": "markdown",
   "metadata": {},
   "source": [
    "### Loading the Image"
   ]
  },
  {
   "cell_type": "code",
   "execution_count": 9,
   "metadata": {},
   "outputs": [],
   "source": [
    "img = r\"./test_images/dicaprio.jpg\"\n",
    "img = cv2.imread(img)\n",
    "cartoonify(img)"
   ]
  }
 ],
 "metadata": {
  "kernelspec": {
   "display_name": "Python 3",
   "language": "python",
   "name": "python3"
  },
  "language_info": {
   "codemirror_mode": {
    "name": "ipython",
    "version": 3
   },
   "file_extension": ".py",
   "mimetype": "text/x-python",
   "name": "python",
   "nbconvert_exporter": "python",
   "pygments_lexer": "ipython3",
   "version": "3.7.9"
  }
 },
 "nbformat": 4,
 "nbformat_minor": 4
}
